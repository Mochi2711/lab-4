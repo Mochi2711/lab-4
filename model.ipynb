{
 "cells": [
  {
   "cell_type": "code",
   "execution_count": 1,
   "metadata": {},
   "outputs": [
    {
     "name": "stdout",
     "output_type": "stream",
     "text": [
      "Accuracy: 0.78125\n",
      "X_train shape: (127, 6)\n",
      "X_test shape: (32, 6)\n",
      "X shape: (159, 6)\n",
      "X_train columns: Index(['Weight', 'Length1', 'Length2', 'Length3', 'Height', 'Width'], dtype='object')\n",
      "X_test columns: Index(['Weight', 'Length1', 'Length2', 'Length3', 'Height', 'Width'], dtype='object')\n",
      "X columns: Index(['Weight', 'Length1', 'Length2', 'Length3', 'Height', 'Width'], dtype='object')\n"
     ]
    }
   ],
   "source": [
    "import pandas as pd\n",
    "from sklearn.model_selection import train_test_split\n",
    "from sklearn.ensemble import RandomForestClassifier\n",
    "from sklearn.metrics import accuracy_score\n",
    "import joblib\n",
    "\n",
    "# Load the dataset\n",
    "df = pd.read_csv('D:/dc/AIDI_sem2/AI_ES/assign_4/Fish.csv')\n",
    "\n",
    "# Data preprocessing (if any)\n",
    "# For simplicity, assume all columns are numeric and no missing values handling is shown here\n",
    "\n",
    "# Define features and target\n",
    "X = df.drop(['Species'], axis=1)\n",
    "y = df['Species']\n",
    "\n",
    "# Split data into training and testing sets\n",
    "X_train, X_test, y_train, y_test = train_test_split(X, y, test_size=0.2, random_state=42)\n",
    "\n",
    "# Initialize the model\n",
    "model = RandomForestClassifier(random_state=42)\n",
    "\n",
    "# Train the model\n",
    "model.fit(X_train, y_train)\n",
    "\n",
    "# Make predictions\n",
    "y_pred = model.predict(X_test)\n",
    "\n",
    "# Evaluate model performance\n",
    "accuracy = accuracy_score(y_test, y_pred)\n",
    "print(f'Accuracy: {accuracy}')\n",
    "\n",
    "# Save the model\n",
    "joblib.dump(model, 'fish_species_model.pkl')\n",
    "\n",
    "# Debugging prints\n",
    "print(\"X_train shape:\", X_train.shape)\n",
    "print(\"X_test shape:\", X_test.shape)\n",
    "print(\"X shape:\", X.shape)\n",
    "print(\"X_train columns:\", X_train.columns)\n",
    "print(\"X_test columns:\", X_test.columns)\n",
    "print(\"X columns:\", X.columns)\n"
   ]
  },
  {
   "cell_type": "code",
   "execution_count": 2,
   "metadata": {},
   "outputs": [
    {
     "name": "stdout",
     "output_type": "stream",
     "text": [
      "Requirement already satisfied: watchdog==2.1.6 in c:\\users\\maithili\\anaconda3\\lib\\site-packages (2.1.6)\n",
      "Collecting werkzeug==1.0.1\n",
      "  Downloading Werkzeug-1.0.1-py2.py3-none-any.whl (298 kB)\n",
      "     -------------------------------------- 298.6/298.6 kB 3.7 MB/s eta 0:00:00\n",
      "Installing collected packages: werkzeug\n",
      "  Attempting uninstall: werkzeug\n",
      "    Found existing installation: Werkzeug 3.0.3\n",
      "    Uninstalling Werkzeug-3.0.3:\n",
      "      Successfully uninstalled Werkzeug-3.0.3\n",
      "Successfully installed werkzeug-1.0.1\n",
      "Note: you may need to restart the kernel to use updated packages.\n"
     ]
    },
    {
     "name": "stderr",
     "output_type": "stream",
     "text": [
      "ERROR: pip's dependency resolver does not currently take into account all the packages that are installed. This behaviour is the source of the following dependency conflicts.\n",
      "flask 3.0.3 requires Werkzeug>=3.0.0, but you have werkzeug 1.0.1 which is incompatible.\n"
     ]
    }
   ],
   "source": [
    "%pip install watchdog==2.1.6 werkzeug==1.0.1"
   ]
  },
  {
   "cell_type": "code",
   "execution_count": 1,
   "metadata": {},
   "outputs": [
    {
     "name": "stdout",
     "output_type": "stream",
     "text": [
      "Requirement already satisfied: flask in c:\\users\\maithili\\anaconda3\\lib\\site-packages (3.0.3)\n",
      "Requirement already satisfied: werkzeug in c:\\users\\maithili\\anaconda3\\lib\\site-packages (1.0.1)\n",
      "Collecting werkzeug\n",
      "  Using cached werkzeug-3.0.3-py3-none-any.whl (227 kB)\n",
      "Requirement already satisfied: Jinja2>=3.1.2 in c:\\users\\maithili\\anaconda3\\lib\\site-packages (from flask) (3.1.4)\n",
      "Requirement already satisfied: importlib-metadata>=3.6.0 in c:\\users\\maithili\\anaconda3\\lib\\site-packages (from flask) (4.11.3)\n",
      "Requirement already satisfied: click>=8.1.3 in c:\\users\\maithili\\anaconda3\\lib\\site-packages (from flask) (8.1.7)\n",
      "Requirement already satisfied: blinker>=1.6.2 in c:\\users\\maithili\\anaconda3\\lib\\site-packages (from flask) (1.8.2)\n",
      "Requirement already satisfied: itsdangerous>=2.1.2 in c:\\users\\maithili\\anaconda3\\lib\\site-packages (from flask) (2.2.0)\n",
      "Requirement already satisfied: MarkupSafe>=2.1.1 in c:\\users\\maithili\\anaconda3\\lib\\site-packages (from werkzeug) (2.1.5)\n",
      "Requirement already satisfied: colorama in c:\\users\\maithili\\anaconda3\\lib\\site-packages (from click>=8.1.3->flask) (0.4.5)\n",
      "Requirement already satisfied: zipp>=0.5 in c:\\users\\maithili\\anaconda3\\lib\\site-packages (from importlib-metadata>=3.6.0->flask) (3.8.0)\n",
      "Installing collected packages: werkzeug\n",
      "  Attempting uninstall: werkzeug\n",
      "    Found existing installation: Werkzeug 1.0.1\n",
      "    Uninstalling Werkzeug-1.0.1:\n",
      "      Successfully uninstalled Werkzeug-1.0.1\n",
      "Successfully installed werkzeug-3.0.3\n",
      "Note: you may need to restart the kernel to use updated packages.\n"
     ]
    }
   ],
   "source": [
    "%pip install --upgrade flask werkzeug\n"
   ]
  },
  {
   "cell_type": "code",
   "execution_count": null,
   "metadata": {},
   "outputs": [],
   "source": []
  }
 ],
 "metadata": {
  "kernelspec": {
   "display_name": "base",
   "language": "python",
   "name": "python3"
  },
  "language_info": {
   "codemirror_mode": {
    "name": "ipython",
    "version": 3
   },
   "file_extension": ".py",
   "mimetype": "text/x-python",
   "name": "python",
   "nbconvert_exporter": "python",
   "pygments_lexer": "ipython3",
   "version": "3.9.13"
  }
 },
 "nbformat": 4,
 "nbformat_minor": 2
}
